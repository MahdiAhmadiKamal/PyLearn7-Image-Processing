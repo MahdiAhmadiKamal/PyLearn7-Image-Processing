{
 "cells": [
  {
   "cell_type": "code",
   "execution_count": 48,
   "metadata": {},
   "outputs": [],
   "source": [
    "import cv2\n",
    "import numpy as np\n",
    "from PIL import Image\n",
    "import matplotlib.pyplot as plt\n",
    "\n",
    "image = cv2.imread(\"input/SuperMan.jpg\")\n",
    "background = cv2.imread(\"input/background.jpg\")\n",
    "# image = cv2.cvtColor(image, cv2.COLOR_BGR2RGB)\n",
    "rows, cols, _ = image.shape"
   ]
  },
  {
   "cell_type": "code",
   "execution_count": 49,
   "metadata": {},
   "outputs": [
    {
     "data": {
      "text/plain": [
       "True"
      ]
     },
     "execution_count": 49,
     "metadata": {},
     "output_type": "execute_result"
    }
   ],
   "source": [
    "for i in range(image.shape[0]):\n",
    "    for j in range(image.shape[1]):\n",
    "        B, G, R = image[i, j]\n",
    "        if 20 < B < 140 and 140 < G < 256 and 5 < R < 230 :\n",
    "            image[i, j] = background[i, j]\n",
    "\n",
    "cv2.imwrite(\"output/result.jpg\", image)"
   ]
  }
 ],
 "metadata": {
  "kernelspec": {
   "display_name": "Python 3",
   "language": "python",
   "name": "python3"
  },
  "language_info": {
   "codemirror_mode": {
    "name": "ipython",
    "version": 3
   },
   "file_extension": ".py",
   "mimetype": "text/x-python",
   "name": "python",
   "nbconvert_exporter": "python",
   "pygments_lexer": "ipython3",
   "version": "3.10.11"
  }
 },
 "nbformat": 4,
 "nbformat_minor": 2
}
