{
 "cells": [
  {
   "cell_type": "code",
   "execution_count": 4,
   "metadata": {},
   "outputs": [],
   "source": [
    "# import the necessary packages\n",
    "import imutils\n",
    "import numpy as np\n",
    "import argparse\n",
    "import cv2\n",
    "\n",
    "# construct the argument parse and parse the arguments\n",
    "ap = argparse.ArgumentParser()\n",
    "# ap.add_argument(\"-v\", \"--video\", help = \"path to the (optional) video file\")\n",
    "# args = vars(ap.parse_args())\n",
    "\n",
    "# define the upper and lower boundaries of the HSV pixel\n",
    "# intensities to be considered 'skin'\n",
    "lower = np.array([0, 48, 80], dtype = \"uint8\")\n",
    "upper = np.array([20, 255, 255], dtype = \"uint8\")"
   ]
  },
  {
   "cell_type": "code",
   "execution_count": 5,
   "metadata": {},
   "outputs": [],
   "source": [
    "# if a video path was not supplied, grab the reference\n",
    "# to the gray\n",
    "if True:\n",
    "\tcamera = cv2.VideoCapture(0)\n",
    "\n",
    "# otherwise, load the video\n",
    "else:\n",
    "\tcamera = cv2.VideoCapture(args[\"video\"])"
   ]
  },
  {
   "cell_type": "code",
   "execution_count": 6,
   "metadata": {},
   "outputs": [
    {
     "ename": "NameError",
     "evalue": "name 'q' is not defined",
     "output_type": "error",
     "traceback": [
      "\u001b[1;31m---------------------------------------------------------------------------\u001b[0m",
      "\u001b[1;31mNameError\u001b[0m                                 Traceback (most recent call last)",
      "Cell \u001b[1;32mIn[6], line 35\u001b[0m\n\u001b[0;32m     33\u001b[0m \t\u001b[38;5;28;01mif\u001b[39;00m cv2\u001b[38;5;241m.\u001b[39mwaitKey(\u001b[38;5;241m1\u001b[39m) \u001b[38;5;241m&\u001b[39m \u001b[38;5;241m0xFF\u001b[39m \u001b[38;5;241m==\u001b[39m \u001b[38;5;28mord\u001b[39m(\u001b[38;5;124m\"\u001b[39m\u001b[38;5;124mq\u001b[39m\u001b[38;5;124m\"\u001b[39m):\n\u001b[0;32m     34\u001b[0m \t\t\u001b[38;5;28;01mbreak\u001b[39;00m\n\u001b[1;32m---> 35\u001b[0m \u001b[43mq\u001b[49m\n\u001b[0;32m     36\u001b[0m \u001b[38;5;66;03m# cleanup the camera and close any open windows\u001b[39;00m\n\u001b[0;32m     37\u001b[0m camera\u001b[38;5;241m.\u001b[39mrelease()\n",
      "\u001b[1;31mNameError\u001b[0m: name 'q' is not defined"
     ]
    },
    {
     "ename": "",
     "evalue": "",
     "output_type": "error",
     "traceback": [
      "\u001b[1;31mThe Kernel crashed while executing code in the current cell or a previous cell. \n",
      "\u001b[1;31mPlease review the code in the cell(s) to identify a possible cause of the failure. \n",
      "\u001b[1;31mClick <a href='https://aka.ms/vscodeJupyterKernelCrash'>here</a> for more info. \n",
      "\u001b[1;31mView Jupyter <a href='command:jupyter.viewOutput'>log</a> for further details."
     ]
    }
   ],
   "source": [
    "# keep looping over the frames in the video\n",
    "while True:\n",
    "\t# grab the current frame\n",
    "\t(grabbed, frame) = camera.read()\n",
    "\n",
    "\t# if we are viewing a video and we did not grab a\n",
    "\t# frame, then we have reached the end of the video\n",
    "\tif not grabbed:\n",
    "\t\tbreak\n",
    "\n",
    "\t# resize the frame, convert it to the HSV color space,\n",
    "\t# and determine the HSV pixel intensities that fall into\n",
    "\t# the speicifed upper and lower boundaries\n",
    "\tframe = imutils.resize(frame, width = 400)\n",
    "\tconverted = cv2.cvtColor(frame, cv2.COLOR_BGR2HSV)\n",
    "\tskinMask = cv2.inRange(converted, lower, upper)\n",
    "\n",
    "\t# apply a series of erosions and dilations to the mask\n",
    "\t# using an elliptical kernel\n",
    "\tkernel = cv2.getStructuringElement(cv2.MORPH_ELLIPSE, (1, 1))\n",
    "\tskinMask = cv2.erode(skinMask, kernel, iterations = 2)\n",
    "\tskinMask = cv2.dilate(skinMask, kernel, iterations = 2)\n",
    "\n",
    "\t# blur the mask to help remove noise, then apply the\n",
    "\t# mask to the frame\n",
    "\tskinMask = cv2.GaussianBlur(skinMask, (3, 3), 0)\n",
    "\tskin = cv2.bitwise_and(frame, frame, mask = skinMask)\n",
    "\n",
    "\t# show the skin in the image along with the mask\n",
    "\tcv2.imshow(\"images\", np.hstack([frame, skin]))\n",
    "\n",
    "\t# if the 'q' key is pressed, stop the loop\n",
    "\tif cv2.waitKey(1) & 0xFF == ord(\"q\"):\n",
    "\t\tbreak\n",
    "q\n",
    "# cleanup the camera and close any open windows\n",
    "camera.release()\n",
    "cv2.destroyAllWindows()"
   ]
  }
 ],
 "metadata": {
  "kernelspec": {
   "display_name": "Python 3",
   "language": "python",
   "name": "python3"
  },
  "language_info": {
   "codemirror_mode": {
    "name": "ipython",
    "version": 3
   },
   "file_extension": ".py",
   "mimetype": "text/x-python",
   "name": "python",
   "nbconvert_exporter": "python",
   "pygments_lexer": "ipython3",
   "version": "3.10.11"
  }
 },
 "nbformat": 4,
 "nbformat_minor": 2
}
